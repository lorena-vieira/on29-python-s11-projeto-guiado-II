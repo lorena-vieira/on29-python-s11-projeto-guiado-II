{
 "cells": [
  {
   "cell_type": "code",
   "execution_count": 17,
   "metadata": {},
   "outputs": [
    {
     "name": "stdout",
     "output_type": "stream",
     "text": [
      "Requirement already satisfied: pip in c:\\users\\lorena\\appdata\\local\\programs\\python\\python312\\lib\\site-packages (24.0)\n"
     ]
    }
   ],
   "source": [
    "!python -m pip install --upgrade pip"
   ]
  },
  {
   "cell_type": "code",
   "execution_count": 26,
   "metadata": {},
   "outputs": [
    {
     "name": "stdout",
     "output_type": "stream",
     "text": [
      "Collecting pandas\n",
      "  Using cached pandas-2.2.2-cp312-cp312-win_amd64.whl.metadata (19 kB)\n",
      "Collecting numpy>=1.26.0 (from pandas)\n",
      "  Using cached numpy-1.26.4-cp312-cp312-win_amd64.whl.metadata (61 kB)\n",
      "Requirement already satisfied: python-dateutil>=2.8.2 in c:\\users\\lorena\\appdata\\roaming\\python\\python312\\site-packages (from pandas) (2.9.0.post0)\n",
      "Collecting pytz>=2020.1 (from pandas)\n",
      "  Using cached pytz-2024.1-py2.py3-none-any.whl.metadata (22 kB)\n",
      "Collecting tzdata>=2022.7 (from pandas)\n",
      "  Using cached tzdata-2024.1-py2.py3-none-any.whl.metadata (1.4 kB)\n",
      "Requirement already satisfied: six>=1.5 in c:\\users\\lorena\\appdata\\roaming\\python\\python312\\site-packages (from python-dateutil>=2.8.2->pandas) (1.16.0)\n",
      "Using cached pandas-2.2.2-cp312-cp312-win_amd64.whl (11.5 MB)\n",
      "Using cached numpy-1.26.4-cp312-cp312-win_amd64.whl (15.5 MB)\n",
      "Using cached pytz-2024.1-py2.py3-none-any.whl (505 kB)\n",
      "Using cached tzdata-2024.1-py2.py3-none-any.whl (345 kB)\n",
      "Installing collected packages: pytz, tzdata, numpy, pandas\n",
      "Successfully installed numpy-1.26.4 pandas-2.2.2 pytz-2024.1 tzdata-2024.1\n",
      "Note: you may need to restart the kernel to use updated packages.\n"
     ]
    }
   ],
   "source": [
    "pip install pandas"
   ]
  },
  {
   "cell_type": "code",
   "execution_count": 20,
   "metadata": {},
   "outputs": [
    {
     "name": "stdout",
     "output_type": "stream",
     "text": [
      "Requirement already satisfied: numpy in c:\\users\\lorena\\appdata\\roaming\\python\\python38\\site-packages (1.24.4)\n"
     ]
    },
    {
     "name": "stderr",
     "output_type": "stream",
     "text": [
      "WARNING: You are using pip version 19.2.3, however version 24.0 is available.\n",
      "You should consider upgrading via the 'python -m pip install --upgrade pip' command.\n"
     ]
    }
   ],
   "source": [
    "!pip install --user numpy"
   ]
  },
  {
   "cell_type": "code",
   "execution_count": 1,
   "metadata": {},
   "outputs": [],
   "source": [
    "#bibliotecas\n",
    "import pandas as pd"
   ]
  },
  {
   "cell_type": "code",
   "execution_count": 2,
   "metadata": {},
   "outputs": [],
   "source": [
    "import numpy as np"
   ]
  },
  {
   "cell_type": "code",
   "execution_count": 3,
   "metadata": {},
   "outputs": [
    {
     "ename": "ModuleNotFoundError",
     "evalue": "No module named 'matplotlib'",
     "output_type": "error",
     "traceback": [
      "\u001b[1;31m---------------------------------------------------------------------------\u001b[0m",
      "\u001b[1;31mModuleNotFoundError\u001b[0m                       Traceback (most recent call last)",
      "Cell \u001b[1;32mIn[3], line 1\u001b[0m\n\u001b[1;32m----> 1\u001b[0m \u001b[38;5;28;01mimport\u001b[39;00m \u001b[38;5;21;01mmatplotlib\u001b[39;00m \u001b[38;5;28;01mas\u001b[39;00m \u001b[38;5;21;01mmtp\u001b[39;00m\n",
      "\u001b[1;31mModuleNotFoundError\u001b[0m: No module named 'matplotlib'"
     ]
    }
   ],
   "source": [
    "import matplotlib as mtp"
   ]
  },
  {
   "cell_type": "markdown",
   "metadata": {},
   "source": [
    "pip install matplotlib"
   ]
  },
  {
   "cell_type": "code",
   "execution_count": 4,
   "metadata": {},
   "outputs": [
    {
     "name": "stdout",
     "output_type": "stream",
     "text": [
      "Collecting matplotlib\n",
      "  Downloading matplotlib-3.9.0-cp312-cp312-win_amd64.whl.metadata (11 kB)\n",
      "Collecting contourpy>=1.0.1 (from matplotlib)\n",
      "  Downloading contourpy-1.2.1-cp312-cp312-win_amd64.whl.metadata (5.8 kB)\n",
      "Collecting cycler>=0.10 (from matplotlib)\n",
      "  Downloading cycler-0.12.1-py3-none-any.whl.metadata (3.8 kB)\n",
      "Collecting fonttools>=4.22.0 (from matplotlib)\n",
      "  Downloading fonttools-4.53.0-cp312-cp312-win_amd64.whl.metadata (165 kB)\n",
      "     ---------------------------------------- 0.0/165.5 kB ? eta -:--:--\n",
      "     ------- -------------------------------- 30.7/165.5 kB ? eta -:--:--\n",
      "     ---------------- -------------------- 71.7/165.5 kB 660.6 kB/s eta 0:00:01\n",
      "     -------------------- ---------------- 92.2/165.5 kB 751.6 kB/s eta 0:00:01\n",
      "     ------------------------------- ---- 143.4/165.5 kB 711.9 kB/s eta 0:00:01\n",
      "     -----------------------------------  163.8/165.5 kB 756.6 kB/s eta 0:00:01\n",
      "     -----------------------------------  163.8/165.5 kB 756.6 kB/s eta 0:00:01\n",
      "     -----------------------------------  163.8/165.5 kB 756.6 kB/s eta 0:00:01\n",
      "     ------------------------------------ 165.5/165.5 kB 414.0 kB/s eta 0:00:00\n",
      "Collecting kiwisolver>=1.3.1 (from matplotlib)\n",
      "  Downloading kiwisolver-1.4.5-cp312-cp312-win_amd64.whl.metadata (6.5 kB)\n",
      "Requirement already satisfied: numpy>=1.23 in c:\\users\\lorena\\appdata\\local\\programs\\python\\python312\\lib\\site-packages (from matplotlib) (1.26.4)\n",
      "Requirement already satisfied: packaging>=20.0 in c:\\users\\lorena\\appdata\\roaming\\python\\python312\\site-packages (from matplotlib) (24.0)\n",
      "Collecting pillow>=8 (from matplotlib)\n",
      "  Downloading pillow-10.3.0-cp312-cp312-win_amd64.whl.metadata (9.4 kB)\n",
      "Collecting pyparsing>=2.3.1 (from matplotlib)\n",
      "  Downloading pyparsing-3.1.2-py3-none-any.whl.metadata (5.1 kB)\n",
      "Requirement already satisfied: python-dateutil>=2.7 in c:\\users\\lorena\\appdata\\roaming\\python\\python312\\site-packages (from matplotlib) (2.9.0.post0)\n",
      "Requirement already satisfied: six>=1.5 in c:\\users\\lorena\\appdata\\roaming\\python\\python312\\site-packages (from python-dateutil>=2.7->matplotlib) (1.16.0)\n",
      "Downloading matplotlib-3.9.0-cp312-cp312-win_amd64.whl (8.0 MB)\n",
      "   ---------------------------------------- 0.0/8.0 MB ? eta -:--:--\n",
      "   ---------------------------------------- 0.1/8.0 MB 3.2 MB/s eta 0:00:03\n",
      "   ---------------------------------------- 0.1/8.0 MB 787.7 kB/s eta 0:00:11\n",
      "    --------------------------------------- 0.2/8.0 MB 1.3 MB/s eta 0:00:06\n",
      "   - -------------------------------------- 0.2/8.0 MB 1.3 MB/s eta 0:00:07\n",
      "   - -------------------------------------- 0.3/8.0 MB 1.6 MB/s eta 0:00:05\n",
      "   -- ------------------------------------- 0.5/8.0 MB 1.8 MB/s eta 0:00:05\n",
      "   --- ------------------------------------ 0.6/8.0 MB 2.0 MB/s eta 0:00:04\n",
      "   --- ------------------------------------ 0.7/8.0 MB 2.1 MB/s eta 0:00:04\n",
      "   ---- ----------------------------------- 1.0/8.0 MB 2.4 MB/s eta 0:00:03\n",
      "   ------ --------------------------------- 1.2/8.0 MB 2.6 MB/s eta 0:00:03\n",
      "   ------ --------------------------------- 1.3/8.0 MB 2.6 MB/s eta 0:00:03\n",
      "   -------- ------------------------------- 1.6/8.0 MB 3.0 MB/s eta 0:00:03\n",
      "   -------- ------------------------------- 1.7/8.0 MB 3.0 MB/s eta 0:00:03\n",
      "   --------- ------------------------------ 2.0/8.0 MB 3.1 MB/s eta 0:00:02\n",
      "   ---------- ----------------------------- 2.1/8.0 MB 3.1 MB/s eta 0:00:02\n",
      "   ------------ --------------------------- 2.4/8.0 MB 3.3 MB/s eta 0:00:02\n",
      "   ------------- -------------------------- 2.6/8.0 MB 3.3 MB/s eta 0:00:02\n",
      "   -------------- ------------------------- 2.8/8.0 MB 3.4 MB/s eta 0:00:02\n",
      "   -------------- ------------------------- 2.9/8.0 MB 3.4 MB/s eta 0:00:02\n",
      "   --------------- ------------------------ 3.1/8.0 MB 3.3 MB/s eta 0:00:02\n",
      "   ---------------- ----------------------- 3.3/8.0 MB 3.3 MB/s eta 0:00:02\n",
      "   ----------------- ---------------------- 3.4/8.0 MB 3.4 MB/s eta 0:00:02\n",
      "   ------------------ --------------------- 3.6/8.0 MB 3.4 MB/s eta 0:00:02\n",
      "   ------------------ --------------------- 3.7/8.0 MB 3.3 MB/s eta 0:00:02\n",
      "   ------------------- -------------------- 4.0/8.0 MB 3.4 MB/s eta 0:00:02\n",
      "   -------------------- ------------------- 4.1/8.0 MB 3.4 MB/s eta 0:00:02\n",
      "   --------------------- ------------------ 4.3/8.0 MB 3.4 MB/s eta 0:00:02\n",
      "   ---------------------- ----------------- 4.5/8.0 MB 3.5 MB/s eta 0:00:01\n",
      "   ----------------------- ---------------- 4.7/8.0 MB 3.5 MB/s eta 0:00:01\n",
      "   ------------------------ --------------- 4.8/8.0 MB 3.5 MB/s eta 0:00:01\n",
      "   ------------------------ --------------- 4.9/8.0 MB 3.5 MB/s eta 0:00:01\n",
      "   ------------------------- -------------- 5.1/8.0 MB 3.4 MB/s eta 0:00:01\n",
      "   -------------------------- ------------- 5.3/8.0 MB 3.5 MB/s eta 0:00:01\n",
      "   ---------------------------- ----------- 5.7/8.0 MB 3.6 MB/s eta 0:00:01\n",
      "   ---------------------------- ----------- 5.8/8.0 MB 3.5 MB/s eta 0:00:01\n",
      "   ------------------------------ --------- 6.1/8.0 MB 3.6 MB/s eta 0:00:01\n",
      "   ------------------------------- -------- 6.2/8.0 MB 3.7 MB/s eta 0:00:01\n",
      "   -------------------------------- ------- 6.5/8.0 MB 3.7 MB/s eta 0:00:01\n",
      "   --------------------------------- ------ 6.6/8.0 MB 3.7 MB/s eta 0:00:01\n",
      "   ---------------------------------- ----- 6.8/8.0 MB 3.7 MB/s eta 0:00:01\n",
      "   ----------------------------------- ---- 7.0/8.0 MB 3.7 MB/s eta 0:00:01\n",
      "   ------------------------------------ --- 7.2/8.0 MB 3.7 MB/s eta 0:00:01\n",
      "   ------------------------------------- -- 7.4/8.0 MB 3.7 MB/s eta 0:00:01\n",
      "   ------------------------------------- -- 7.5/8.0 MB 3.7 MB/s eta 0:00:01\n",
      "   ---------------------------------------  7.8/8.0 MB 3.7 MB/s eta 0:00:01\n",
      "   ---------------------------------------  7.8/8.0 MB 3.7 MB/s eta 0:00:01\n",
      "   ---------------------------------------  8.0/8.0 MB 3.7 MB/s eta 0:00:01\n",
      "   ---------------------------------------  8.0/8.0 MB 3.7 MB/s eta 0:00:01\n",
      "   ---------------------------------------  8.0/8.0 MB 3.7 MB/s eta 0:00:01\n",
      "   ---------------------------------------  8.0/8.0 MB 3.7 MB/s eta 0:00:01\n",
      "   ---------------------------------------  8.0/8.0 MB 3.7 MB/s eta 0:00:01\n",
      "   ---------------------------------------  8.0/8.0 MB 3.7 MB/s eta 0:00:01\n",
      "   ---------------------------------------- 8.0/8.0 MB 3.3 MB/s eta 0:00:00\n",
      "Downloading contourpy-1.2.1-cp312-cp312-win_amd64.whl (189 kB)\n",
      "   ---------------------------------------- 0.0/189.9 kB ? eta -:--:--\n",
      "   ------------------------------------- - 184.3/189.9 kB 11.6 MB/s eta 0:00:01\n",
      "   ------------------------------------- - 184.3/189.9 kB 11.6 MB/s eta 0:00:01\n",
      "   ---------------------------------------- 189.9/189.9 kB 1.9 MB/s eta 0:00:00\n",
      "Downloading cycler-0.12.1-py3-none-any.whl (8.3 kB)\n",
      "Downloading fonttools-4.53.0-cp312-cp312-win_amd64.whl (2.2 MB)\n",
      "   ---------------------------------------- 0.0/2.2 MB ? eta -:--:--\n",
      "   -- ------------------------------------- 0.1/2.2 MB 7.5 MB/s eta 0:00:01\n",
      "   ------ --------------------------------- 0.4/2.2 MB 4.6 MB/s eta 0:00:01\n",
      "   ---------- ----------------------------- 0.6/2.2 MB 5.1 MB/s eta 0:00:01\n",
      "   -------------- ------------------------- 0.8/2.2 MB 4.5 MB/s eta 0:00:01\n",
      "   ----------------- ---------------------- 1.0/2.2 MB 4.4 MB/s eta 0:00:01\n",
      "   -------------------- ------------------- 1.1/2.2 MB 4.2 MB/s eta 0:00:01\n",
      "   ----------------------- ---------------- 1.3/2.2 MB 4.4 MB/s eta 0:00:01\n",
      "   ---------------------------- ----------- 1.6/2.2 MB 4.4 MB/s eta 0:00:01\n",
      "   ---------------------------------- ----- 1.9/2.2 MB 4.6 MB/s eta 0:00:01\n",
      "   ------------------------------------ --- 2.0/2.2 MB 4.4 MB/s eta 0:00:01\n",
      "   ---------------------------------------  2.2/2.2 MB 4.7 MB/s eta 0:00:01\n",
      "   ---------------------------------------  2.2/2.2 MB 4.7 MB/s eta 0:00:01\n",
      "   ---------------------------------------  2.2/2.2 MB 4.7 MB/s eta 0:00:01\n",
      "   ---------------------------------------- 2.2/2.2 MB 3.4 MB/s eta 0:00:00\n",
      "Downloading kiwisolver-1.4.5-cp312-cp312-win_amd64.whl (56 kB)\n",
      "   ---------------------------------------- 0.0/56.0 kB ? eta -:--:--\n",
      "   ------------------------------------ --- 51.2/56.0 kB 2.6 MB/s eta 0:00:01\n",
      "   ------------------------------------ --- 51.2/56.0 kB 2.6 MB/s eta 0:00:01\n",
      "   ------------------------------------ --- 51.2/56.0 kB 2.6 MB/s eta 0:00:01\n",
      "   ---------------------------------------- 56.0/56.0 kB 243.4 kB/s eta 0:00:00\n",
      "Downloading pillow-10.3.0-cp312-cp312-win_amd64.whl (2.5 MB)\n",
      "   ---------------------------------------- 0.0/2.5 MB ? eta -:--:--\n",
      "   --- ------------------------------------ 0.2/2.5 MB 4.1 MB/s eta 0:00:01\n",
      "   ------- -------------------------------- 0.5/2.5 MB 4.7 MB/s eta 0:00:01\n",
      "   --------- ------------------------------ 0.6/2.5 MB 4.1 MB/s eta 0:00:01\n",
      "   ------------- -------------------------- 0.8/2.5 MB 4.4 MB/s eta 0:00:01\n",
      "   --------------- ------------------------ 1.0/2.5 MB 4.2 MB/s eta 0:00:01\n",
      "   -------------------- ------------------- 1.3/2.5 MB 4.5 MB/s eta 0:00:01\n",
      "   ---------------------- ----------------- 1.4/2.5 MB 4.4 MB/s eta 0:00:01\n",
      "   ------------------------- -------------- 1.6/2.5 MB 4.2 MB/s eta 0:00:01\n",
      "   ----------------------------- ---------- 1.9/2.5 MB 4.6 MB/s eta 0:00:01\n",
      "   ------------------------------- -------- 2.0/2.5 MB 4.3 MB/s eta 0:00:01\n",
      "   ----------------------------------- ---- 2.3/2.5 MB 4.3 MB/s eta 0:00:01\n",
      "   ------------------------------------- -- 2.4/2.5 MB 4.4 MB/s eta 0:00:01\n",
      "   ---------------------------------------  2.5/2.5 MB 4.2 MB/s eta 0:00:01\n",
      "   ---------------------------------------  2.5/2.5 MB 4.2 MB/s eta 0:00:01\n",
      "   ---------------------------------------  2.5/2.5 MB 4.2 MB/s eta 0:00:01\n",
      "   ---------------------------------------  2.5/2.5 MB 4.2 MB/s eta 0:00:01\n",
      "   ---------------------------------------- 2.5/2.5 MB 3.3 MB/s eta 0:00:00\n",
      "Downloading pyparsing-3.1.2-py3-none-any.whl (103 kB)\n",
      "   ---------------------------------------- 0.0/103.2 kB ? eta -:--:--\n",
      "   ---------------------------------------  102.4/103.2 kB ? eta -:--:--\n",
      "   ---------------------------------------  102.4/103.2 kB ? eta -:--:--\n",
      "   -------------------------------------- 103.2/103.2 kB 659.6 kB/s eta 0:00:00\n",
      "Installing collected packages: pyparsing, pillow, kiwisolver, fonttools, cycler, contourpy, matplotlib\n",
      "Successfully installed contourpy-1.2.1 cycler-0.12.1 fonttools-4.53.0 kiwisolver-1.4.5 matplotlib-3.9.0 pillow-10.3.0 pyparsing-3.1.2\n",
      "Note: you may need to restart the kernel to use updated packages.\n"
     ]
    }
   ],
   "source": [
    "pip install matplotlib"
   ]
  },
  {
   "cell_type": "code",
   "execution_count": 6,
   "metadata": {},
   "outputs": [],
   "source": [
    "import matplotlib as plt"
   ]
  },
  {
   "cell_type": "code",
   "execution_count": 7,
   "metadata": {},
   "outputs": [],
   "source": [
    "df_titanic = pd.read_csv(\"titanic.csv\")"
   ]
  },
  {
   "cell_type": "code",
   "execution_count": 9,
   "metadata": {},
   "outputs": [
    {
     "data": {
      "text/html": [
       "<div>\n",
       "<style scoped>\n",
       "    .dataframe tbody tr th:only-of-type {\n",
       "        vertical-align: middle;\n",
       "    }\n",
       "\n",
       "    .dataframe tbody tr th {\n",
       "        vertical-align: top;\n",
       "    }\n",
       "\n",
       "    .dataframe thead th {\n",
       "        text-align: right;\n",
       "    }\n",
       "</style>\n",
       "<table border=\"1\" class=\"dataframe\">\n",
       "  <thead>\n",
       "    <tr style=\"text-align: right;\">\n",
       "      <th></th>\n",
       "      <th>PassengerId</th>\n",
       "      <th>Survived</th>\n",
       "      <th>Pclass</th>\n",
       "      <th>Name</th>\n",
       "      <th>Sex</th>\n",
       "      <th>Age</th>\n",
       "      <th>SibSp</th>\n",
       "      <th>Parch</th>\n",
       "      <th>Ticket</th>\n",
       "      <th>Fare</th>\n",
       "      <th>Cabin</th>\n",
       "      <th>Embarked</th>\n",
       "    </tr>\n",
       "  </thead>\n",
       "  <tbody>\n",
       "    <tr>\n",
       "      <th>0</th>\n",
       "      <td>1</td>\n",
       "      <td>0</td>\n",
       "      <td>3</td>\n",
       "      <td>Braund, Mr. Owen Harris</td>\n",
       "      <td>male</td>\n",
       "      <td>22.0</td>\n",
       "      <td>1</td>\n",
       "      <td>0</td>\n",
       "      <td>A/5 21171</td>\n",
       "      <td>7.2500</td>\n",
       "      <td>NaN</td>\n",
       "      <td>S</td>\n",
       "    </tr>\n",
       "    <tr>\n",
       "      <th>1</th>\n",
       "      <td>2</td>\n",
       "      <td>1</td>\n",
       "      <td>1</td>\n",
       "      <td>Cumings, Mrs. John Bradley (Florence Briggs Th...</td>\n",
       "      <td>female</td>\n",
       "      <td>38.0</td>\n",
       "      <td>1</td>\n",
       "      <td>0</td>\n",
       "      <td>PC 17599</td>\n",
       "      <td>71.2833</td>\n",
       "      <td>C85</td>\n",
       "      <td>C</td>\n",
       "    </tr>\n",
       "    <tr>\n",
       "      <th>2</th>\n",
       "      <td>3</td>\n",
       "      <td>1</td>\n",
       "      <td>3</td>\n",
       "      <td>Heikkinen, Miss. Laina</td>\n",
       "      <td>female</td>\n",
       "      <td>26.0</td>\n",
       "      <td>0</td>\n",
       "      <td>0</td>\n",
       "      <td>STON/O2. 3101282</td>\n",
       "      <td>7.9250</td>\n",
       "      <td>NaN</td>\n",
       "      <td>S</td>\n",
       "    </tr>\n",
       "    <tr>\n",
       "      <th>3</th>\n",
       "      <td>4</td>\n",
       "      <td>1</td>\n",
       "      <td>1</td>\n",
       "      <td>Futrelle, Mrs. Jacques Heath (Lily May Peel)</td>\n",
       "      <td>female</td>\n",
       "      <td>35.0</td>\n",
       "      <td>1</td>\n",
       "      <td>0</td>\n",
       "      <td>113803</td>\n",
       "      <td>53.1000</td>\n",
       "      <td>C123</td>\n",
       "      <td>S</td>\n",
       "    </tr>\n",
       "    <tr>\n",
       "      <th>4</th>\n",
       "      <td>5</td>\n",
       "      <td>0</td>\n",
       "      <td>3</td>\n",
       "      <td>Allen, Mr. William Henry</td>\n",
       "      <td>male</td>\n",
       "      <td>35.0</td>\n",
       "      <td>0</td>\n",
       "      <td>0</td>\n",
       "      <td>373450</td>\n",
       "      <td>8.0500</td>\n",
       "      <td>NaN</td>\n",
       "      <td>S</td>\n",
       "    </tr>\n",
       "    <tr>\n",
       "      <th>...</th>\n",
       "      <td>...</td>\n",
       "      <td>...</td>\n",
       "      <td>...</td>\n",
       "      <td>...</td>\n",
       "      <td>...</td>\n",
       "      <td>...</td>\n",
       "      <td>...</td>\n",
       "      <td>...</td>\n",
       "      <td>...</td>\n",
       "      <td>...</td>\n",
       "      <td>...</td>\n",
       "      <td>...</td>\n",
       "    </tr>\n",
       "    <tr>\n",
       "      <th>886</th>\n",
       "      <td>887</td>\n",
       "      <td>0</td>\n",
       "      <td>2</td>\n",
       "      <td>Montvila, Rev. Juozas</td>\n",
       "      <td>male</td>\n",
       "      <td>27.0</td>\n",
       "      <td>0</td>\n",
       "      <td>0</td>\n",
       "      <td>211536</td>\n",
       "      <td>13.0000</td>\n",
       "      <td>NaN</td>\n",
       "      <td>S</td>\n",
       "    </tr>\n",
       "    <tr>\n",
       "      <th>887</th>\n",
       "      <td>888</td>\n",
       "      <td>1</td>\n",
       "      <td>1</td>\n",
       "      <td>Graham, Miss. Margaret Edith</td>\n",
       "      <td>female</td>\n",
       "      <td>19.0</td>\n",
       "      <td>0</td>\n",
       "      <td>0</td>\n",
       "      <td>112053</td>\n",
       "      <td>30.0000</td>\n",
       "      <td>B42</td>\n",
       "      <td>S</td>\n",
       "    </tr>\n",
       "    <tr>\n",
       "      <th>888</th>\n",
       "      <td>889</td>\n",
       "      <td>0</td>\n",
       "      <td>3</td>\n",
       "      <td>Johnston, Miss. Catherine Helen \"Carrie\"</td>\n",
       "      <td>female</td>\n",
       "      <td>NaN</td>\n",
       "      <td>1</td>\n",
       "      <td>2</td>\n",
       "      <td>W./C. 6607</td>\n",
       "      <td>23.4500</td>\n",
       "      <td>NaN</td>\n",
       "      <td>S</td>\n",
       "    </tr>\n",
       "    <tr>\n",
       "      <th>889</th>\n",
       "      <td>890</td>\n",
       "      <td>1</td>\n",
       "      <td>1</td>\n",
       "      <td>Behr, Mr. Karl Howell</td>\n",
       "      <td>male</td>\n",
       "      <td>26.0</td>\n",
       "      <td>0</td>\n",
       "      <td>0</td>\n",
       "      <td>111369</td>\n",
       "      <td>30.0000</td>\n",
       "      <td>C148</td>\n",
       "      <td>C</td>\n",
       "    </tr>\n",
       "    <tr>\n",
       "      <th>890</th>\n",
       "      <td>891</td>\n",
       "      <td>0</td>\n",
       "      <td>3</td>\n",
       "      <td>Dooley, Mr. Patrick</td>\n",
       "      <td>male</td>\n",
       "      <td>32.0</td>\n",
       "      <td>0</td>\n",
       "      <td>0</td>\n",
       "      <td>370376</td>\n",
       "      <td>7.7500</td>\n",
       "      <td>NaN</td>\n",
       "      <td>Q</td>\n",
       "    </tr>\n",
       "  </tbody>\n",
       "</table>\n",
       "<p>891 rows × 12 columns</p>\n",
       "</div>"
      ],
      "text/plain": [
       "     PassengerId  Survived  Pclass  \\\n",
       "0              1         0       3   \n",
       "1              2         1       1   \n",
       "2              3         1       3   \n",
       "3              4         1       1   \n",
       "4              5         0       3   \n",
       "..           ...       ...     ...   \n",
       "886          887         0       2   \n",
       "887          888         1       1   \n",
       "888          889         0       3   \n",
       "889          890         1       1   \n",
       "890          891         0       3   \n",
       "\n",
       "                                                  Name     Sex   Age  SibSp  \\\n",
       "0                              Braund, Mr. Owen Harris    male  22.0      1   \n",
       "1    Cumings, Mrs. John Bradley (Florence Briggs Th...  female  38.0      1   \n",
       "2                               Heikkinen, Miss. Laina  female  26.0      0   \n",
       "3         Futrelle, Mrs. Jacques Heath (Lily May Peel)  female  35.0      1   \n",
       "4                             Allen, Mr. William Henry    male  35.0      0   \n",
       "..                                                 ...     ...   ...    ...   \n",
       "886                              Montvila, Rev. Juozas    male  27.0      0   \n",
       "887                       Graham, Miss. Margaret Edith  female  19.0      0   \n",
       "888           Johnston, Miss. Catherine Helen \"Carrie\"  female   NaN      1   \n",
       "889                              Behr, Mr. Karl Howell    male  26.0      0   \n",
       "890                                Dooley, Mr. Patrick    male  32.0      0   \n",
       "\n",
       "     Parch            Ticket     Fare Cabin Embarked  \n",
       "0        0         A/5 21171   7.2500   NaN        S  \n",
       "1        0          PC 17599  71.2833   C85        C  \n",
       "2        0  STON/O2. 3101282   7.9250   NaN        S  \n",
       "3        0            113803  53.1000  C123        S  \n",
       "4        0            373450   8.0500   NaN        S  \n",
       "..     ...               ...      ...   ...      ...  \n",
       "886      0            211536  13.0000   NaN        S  \n",
       "887      0            112053  30.0000   B42        S  \n",
       "888      2        W./C. 6607  23.4500   NaN        S  \n",
       "889      0            111369  30.0000  C148        C  \n",
       "890      0            370376   7.7500   NaN        Q  \n",
       "\n",
       "[891 rows x 12 columns]"
      ]
     },
     "execution_count": 9,
     "metadata": {},
     "output_type": "execute_result"
    }
   ],
   "source": [
    "df_titanic"
   ]
  },
  {
   "cell_type": "code",
   "execution_count": 10,
   "metadata": {},
   "outputs": [
    {
     "data": {
      "text/plain": [
       "(891, 12)"
      ]
     },
     "execution_count": 10,
     "metadata": {},
     "output_type": "execute_result"
    }
   ],
   "source": [
    "df_titanic.shape"
   ]
  },
  {
   "cell_type": "code",
   "execution_count": 11,
   "metadata": {},
   "outputs": [],
   "source": [
    "df_titanic_backup = df_titanic"
   ]
  },
  {
   "cell_type": "code",
   "execution_count": 12,
   "metadata": {},
   "outputs": [
    {
     "data": {
      "text/plain": [
       "Index(['PassengerId', 'Survived', 'Pclass', 'Name', 'Sex', 'Age', 'SibSp',\n",
       "       'Parch', 'Ticket', 'Fare', 'Cabin', 'Embarked'],\n",
       "      dtype='object')"
      ]
     },
     "execution_count": 12,
     "metadata": {},
     "output_type": "execute_result"
    }
   ],
   "source": [
    "df_titanic.columns"
   ]
  },
  {
   "cell_type": "code",
   "execution_count": 13,
   "metadata": {},
   "outputs": [
    {
     "data": {
      "text/plain": [
       "PassengerId      int64\n",
       "Survived         int64\n",
       "Pclass           int64\n",
       "Name            object\n",
       "Sex             object\n",
       "Age            float64\n",
       "SibSp            int64\n",
       "Parch            int64\n",
       "Ticket          object\n",
       "Fare           float64\n",
       "Cabin           object\n",
       "Embarked        object\n",
       "dtype: object"
      ]
     },
     "execution_count": 13,
     "metadata": {},
     "output_type": "execute_result"
    }
   ],
   "source": [
    "df_titanic.dtypes"
   ]
  },
  {
   "cell_type": "code",
   "execution_count": 14,
   "metadata": {},
   "outputs": [
    {
     "data": {
      "text/html": [
       "<div>\n",
       "<style scoped>\n",
       "    .dataframe tbody tr th:only-of-type {\n",
       "        vertical-align: middle;\n",
       "    }\n",
       "\n",
       "    .dataframe tbody tr th {\n",
       "        vertical-align: top;\n",
       "    }\n",
       "\n",
       "    .dataframe thead th {\n",
       "        text-align: right;\n",
       "    }\n",
       "</style>\n",
       "<table border=\"1\" class=\"dataframe\">\n",
       "  <thead>\n",
       "    <tr style=\"text-align: right;\">\n",
       "      <th></th>\n",
       "      <th>PassengerId</th>\n",
       "      <th>Survived</th>\n",
       "      <th>Pclass</th>\n",
       "      <th>Age</th>\n",
       "      <th>SibSp</th>\n",
       "      <th>Parch</th>\n",
       "      <th>Fare</th>\n",
       "    </tr>\n",
       "  </thead>\n",
       "  <tbody>\n",
       "    <tr>\n",
       "      <th>count</th>\n",
       "      <td>891.000000</td>\n",
       "      <td>891.000000</td>\n",
       "      <td>891.000000</td>\n",
       "      <td>714.000000</td>\n",
       "      <td>891.000000</td>\n",
       "      <td>891.000000</td>\n",
       "      <td>891.000000</td>\n",
       "    </tr>\n",
       "    <tr>\n",
       "      <th>mean</th>\n",
       "      <td>446.000000</td>\n",
       "      <td>0.383838</td>\n",
       "      <td>2.308642</td>\n",
       "      <td>29.699118</td>\n",
       "      <td>0.523008</td>\n",
       "      <td>0.381594</td>\n",
       "      <td>32.204208</td>\n",
       "    </tr>\n",
       "    <tr>\n",
       "      <th>std</th>\n",
       "      <td>257.353842</td>\n",
       "      <td>0.486592</td>\n",
       "      <td>0.836071</td>\n",
       "      <td>14.526497</td>\n",
       "      <td>1.102743</td>\n",
       "      <td>0.806057</td>\n",
       "      <td>49.693429</td>\n",
       "    </tr>\n",
       "    <tr>\n",
       "      <th>min</th>\n",
       "      <td>1.000000</td>\n",
       "      <td>0.000000</td>\n",
       "      <td>1.000000</td>\n",
       "      <td>0.420000</td>\n",
       "      <td>0.000000</td>\n",
       "      <td>0.000000</td>\n",
       "      <td>0.000000</td>\n",
       "    </tr>\n",
       "    <tr>\n",
       "      <th>25%</th>\n",
       "      <td>223.500000</td>\n",
       "      <td>0.000000</td>\n",
       "      <td>2.000000</td>\n",
       "      <td>20.125000</td>\n",
       "      <td>0.000000</td>\n",
       "      <td>0.000000</td>\n",
       "      <td>7.910400</td>\n",
       "    </tr>\n",
       "    <tr>\n",
       "      <th>50%</th>\n",
       "      <td>446.000000</td>\n",
       "      <td>0.000000</td>\n",
       "      <td>3.000000</td>\n",
       "      <td>28.000000</td>\n",
       "      <td>0.000000</td>\n",
       "      <td>0.000000</td>\n",
       "      <td>14.454200</td>\n",
       "    </tr>\n",
       "    <tr>\n",
       "      <th>75%</th>\n",
       "      <td>668.500000</td>\n",
       "      <td>1.000000</td>\n",
       "      <td>3.000000</td>\n",
       "      <td>38.000000</td>\n",
       "      <td>1.000000</td>\n",
       "      <td>0.000000</td>\n",
       "      <td>31.000000</td>\n",
       "    </tr>\n",
       "    <tr>\n",
       "      <th>max</th>\n",
       "      <td>891.000000</td>\n",
       "      <td>1.000000</td>\n",
       "      <td>3.000000</td>\n",
       "      <td>80.000000</td>\n",
       "      <td>8.000000</td>\n",
       "      <td>6.000000</td>\n",
       "      <td>512.329200</td>\n",
       "    </tr>\n",
       "  </tbody>\n",
       "</table>\n",
       "</div>"
      ],
      "text/plain": [
       "       PassengerId    Survived      Pclass         Age       SibSp  \\\n",
       "count   891.000000  891.000000  891.000000  714.000000  891.000000   \n",
       "mean    446.000000    0.383838    2.308642   29.699118    0.523008   \n",
       "std     257.353842    0.486592    0.836071   14.526497    1.102743   \n",
       "min       1.000000    0.000000    1.000000    0.420000    0.000000   \n",
       "25%     223.500000    0.000000    2.000000   20.125000    0.000000   \n",
       "50%     446.000000    0.000000    3.000000   28.000000    0.000000   \n",
       "75%     668.500000    1.000000    3.000000   38.000000    1.000000   \n",
       "max     891.000000    1.000000    3.000000   80.000000    8.000000   \n",
       "\n",
       "            Parch        Fare  \n",
       "count  891.000000  891.000000  \n",
       "mean     0.381594   32.204208  \n",
       "std      0.806057   49.693429  \n",
       "min      0.000000    0.000000  \n",
       "25%      0.000000    7.910400  \n",
       "50%      0.000000   14.454200  \n",
       "75%      0.000000   31.000000  \n",
       "max      6.000000  512.329200  "
      ]
     },
     "execution_count": 14,
     "metadata": {},
     "output_type": "execute_result"
    }
   ],
   "source": [
    "df_titanic.describe()"
   ]
  },
  {
   "cell_type": "code",
   "execution_count": 33,
   "metadata": {},
   "outputs": [],
   "source": [
    "def processamento_df(df_titanic):\n",
    "    df_titanic.head(3)\n",
    "    \n",
    "    baby_df = df_titanic.sample(100)\n",
    "    \n",
    "    df_titanic = df_titanic.sort_values(\"Fare\")\n",
    "    \n",
    "    df_titanic = df_titanic.drop([\"SibSp\", \"Parch\"], axis = \"columns\")\n",
    "    \n",
    "    df_titanic = df_titanic.dropna(subset = \"Fare\")\n",
    "    \n",
    "    df_titanic = df_titanic.reset_index()\n",
    "    \n",
    "    metricas = df_titanic.describe()\n",
    "    \n",
    "    return baby_df, df_titanic, metricas\n",
    "\n"
   ]
  },
  {
   "cell_type": "code",
   "execution_count": 34,
   "metadata": {},
   "outputs": [],
   "source": [
    "df_titanic = pd.read_csv(\"titanic.csv\")"
   ]
  },
  {
   "cell_type": "code",
   "execution_count": 35,
   "metadata": {},
   "outputs": [],
   "source": [
    "baby_df, df_titanic, metricas = processamento_df(df_titanic)"
   ]
  },
  {
   "cell_type": "code",
   "execution_count": 36,
   "metadata": {},
   "outputs": [
    {
     "data": {
      "text/html": [
       "<div>\n",
       "<style scoped>\n",
       "    .dataframe tbody tr th:only-of-type {\n",
       "        vertical-align: middle;\n",
       "    }\n",
       "\n",
       "    .dataframe tbody tr th {\n",
       "        vertical-align: top;\n",
       "    }\n",
       "\n",
       "    .dataframe thead th {\n",
       "        text-align: right;\n",
       "    }\n",
       "</style>\n",
       "<table border=\"1\" class=\"dataframe\">\n",
       "  <thead>\n",
       "    <tr style=\"text-align: right;\">\n",
       "      <th></th>\n",
       "      <th>index</th>\n",
       "      <th>PassengerId</th>\n",
       "      <th>Survived</th>\n",
       "      <th>Pclass</th>\n",
       "      <th>Name</th>\n",
       "      <th>Sex</th>\n",
       "      <th>Age</th>\n",
       "      <th>Ticket</th>\n",
       "      <th>Fare</th>\n",
       "      <th>Cabin</th>\n",
       "      <th>Embarked</th>\n",
       "    </tr>\n",
       "  </thead>\n",
       "  <tbody>\n",
       "    <tr>\n",
       "      <th>0</th>\n",
       "      <td>271</td>\n",
       "      <td>272</td>\n",
       "      <td>1</td>\n",
       "      <td>3</td>\n",
       "      <td>Tornquist, Mr. William Henry</td>\n",
       "      <td>male</td>\n",
       "      <td>25.0</td>\n",
       "      <td>LINE</td>\n",
       "      <td>0.0000</td>\n",
       "      <td>NaN</td>\n",
       "      <td>S</td>\n",
       "    </tr>\n",
       "    <tr>\n",
       "      <th>1</th>\n",
       "      <td>597</td>\n",
       "      <td>598</td>\n",
       "      <td>0</td>\n",
       "      <td>3</td>\n",
       "      <td>Johnson, Mr. Alfred</td>\n",
       "      <td>male</td>\n",
       "      <td>49.0</td>\n",
       "      <td>LINE</td>\n",
       "      <td>0.0000</td>\n",
       "      <td>NaN</td>\n",
       "      <td>S</td>\n",
       "    </tr>\n",
       "    <tr>\n",
       "      <th>2</th>\n",
       "      <td>302</td>\n",
       "      <td>303</td>\n",
       "      <td>0</td>\n",
       "      <td>3</td>\n",
       "      <td>Johnson, Mr. William Cahoone Jr</td>\n",
       "      <td>male</td>\n",
       "      <td>19.0</td>\n",
       "      <td>LINE</td>\n",
       "      <td>0.0000</td>\n",
       "      <td>NaN</td>\n",
       "      <td>S</td>\n",
       "    </tr>\n",
       "    <tr>\n",
       "      <th>3</th>\n",
       "      <td>633</td>\n",
       "      <td>634</td>\n",
       "      <td>0</td>\n",
       "      <td>1</td>\n",
       "      <td>Parr, Mr. William Henry Marsh</td>\n",
       "      <td>male</td>\n",
       "      <td>NaN</td>\n",
       "      <td>112052</td>\n",
       "      <td>0.0000</td>\n",
       "      <td>NaN</td>\n",
       "      <td>S</td>\n",
       "    </tr>\n",
       "    <tr>\n",
       "      <th>4</th>\n",
       "      <td>277</td>\n",
       "      <td>278</td>\n",
       "      <td>0</td>\n",
       "      <td>2</td>\n",
       "      <td>Parkes, Mr. Francis \"Frank\"</td>\n",
       "      <td>male</td>\n",
       "      <td>NaN</td>\n",
       "      <td>239853</td>\n",
       "      <td>0.0000</td>\n",
       "      <td>NaN</td>\n",
       "      <td>S</td>\n",
       "    </tr>\n",
       "    <tr>\n",
       "      <th>...</th>\n",
       "      <td>...</td>\n",
       "      <td>...</td>\n",
       "      <td>...</td>\n",
       "      <td>...</td>\n",
       "      <td>...</td>\n",
       "      <td>...</td>\n",
       "      <td>...</td>\n",
       "      <td>...</td>\n",
       "      <td>...</td>\n",
       "      <td>...</td>\n",
       "      <td>...</td>\n",
       "    </tr>\n",
       "    <tr>\n",
       "      <th>886</th>\n",
       "      <td>438</td>\n",
       "      <td>439</td>\n",
       "      <td>0</td>\n",
       "      <td>1</td>\n",
       "      <td>Fortune, Mr. Mark</td>\n",
       "      <td>male</td>\n",
       "      <td>64.0</td>\n",
       "      <td>19950</td>\n",
       "      <td>263.0000</td>\n",
       "      <td>C23 C25 C27</td>\n",
       "      <td>S</td>\n",
       "    </tr>\n",
       "    <tr>\n",
       "      <th>887</th>\n",
       "      <td>341</td>\n",
       "      <td>342</td>\n",
       "      <td>1</td>\n",
       "      <td>1</td>\n",
       "      <td>Fortune, Miss. Alice Elizabeth</td>\n",
       "      <td>female</td>\n",
       "      <td>24.0</td>\n",
       "      <td>19950</td>\n",
       "      <td>263.0000</td>\n",
       "      <td>C23 C25 C27</td>\n",
       "      <td>S</td>\n",
       "    </tr>\n",
       "    <tr>\n",
       "      <th>888</th>\n",
       "      <td>737</td>\n",
       "      <td>738</td>\n",
       "      <td>1</td>\n",
       "      <td>1</td>\n",
       "      <td>Lesurer, Mr. Gustave J</td>\n",
       "      <td>male</td>\n",
       "      <td>35.0</td>\n",
       "      <td>PC 17755</td>\n",
       "      <td>512.3292</td>\n",
       "      <td>B101</td>\n",
       "      <td>C</td>\n",
       "    </tr>\n",
       "    <tr>\n",
       "      <th>889</th>\n",
       "      <td>258</td>\n",
       "      <td>259</td>\n",
       "      <td>1</td>\n",
       "      <td>1</td>\n",
       "      <td>Ward, Miss. Anna</td>\n",
       "      <td>female</td>\n",
       "      <td>35.0</td>\n",
       "      <td>PC 17755</td>\n",
       "      <td>512.3292</td>\n",
       "      <td>NaN</td>\n",
       "      <td>C</td>\n",
       "    </tr>\n",
       "    <tr>\n",
       "      <th>890</th>\n",
       "      <td>679</td>\n",
       "      <td>680</td>\n",
       "      <td>1</td>\n",
       "      <td>1</td>\n",
       "      <td>Cardeza, Mr. Thomas Drake Martinez</td>\n",
       "      <td>male</td>\n",
       "      <td>36.0</td>\n",
       "      <td>PC 17755</td>\n",
       "      <td>512.3292</td>\n",
       "      <td>B51 B53 B55</td>\n",
       "      <td>C</td>\n",
       "    </tr>\n",
       "  </tbody>\n",
       "</table>\n",
       "<p>891 rows × 11 columns</p>\n",
       "</div>"
      ],
      "text/plain": [
       "     index  PassengerId  Survived  Pclass                                Name  \\\n",
       "0      271          272         1       3        Tornquist, Mr. William Henry   \n",
       "1      597          598         0       3                 Johnson, Mr. Alfred   \n",
       "2      302          303         0       3     Johnson, Mr. William Cahoone Jr   \n",
       "3      633          634         0       1       Parr, Mr. William Henry Marsh   \n",
       "4      277          278         0       2         Parkes, Mr. Francis \"Frank\"   \n",
       "..     ...          ...       ...     ...                                 ...   \n",
       "886    438          439         0       1                   Fortune, Mr. Mark   \n",
       "887    341          342         1       1      Fortune, Miss. Alice Elizabeth   \n",
       "888    737          738         1       1              Lesurer, Mr. Gustave J   \n",
       "889    258          259         1       1                    Ward, Miss. Anna   \n",
       "890    679          680         1       1  Cardeza, Mr. Thomas Drake Martinez   \n",
       "\n",
       "        Sex   Age    Ticket      Fare        Cabin Embarked  \n",
       "0      male  25.0      LINE    0.0000          NaN        S  \n",
       "1      male  49.0      LINE    0.0000          NaN        S  \n",
       "2      male  19.0      LINE    0.0000          NaN        S  \n",
       "3      male   NaN    112052    0.0000          NaN        S  \n",
       "4      male   NaN    239853    0.0000          NaN        S  \n",
       "..      ...   ...       ...       ...          ...      ...  \n",
       "886    male  64.0     19950  263.0000  C23 C25 C27        S  \n",
       "887  female  24.0     19950  263.0000  C23 C25 C27        S  \n",
       "888    male  35.0  PC 17755  512.3292         B101        C  \n",
       "889  female  35.0  PC 17755  512.3292          NaN        C  \n",
       "890    male  36.0  PC 17755  512.3292  B51 B53 B55        C  \n",
       "\n",
       "[891 rows x 11 columns]"
      ]
     },
     "execution_count": 36,
     "metadata": {},
     "output_type": "execute_result"
    }
   ],
   "source": [
    "df_titanic"
   ]
  },
  {
   "cell_type": "code",
   "execution_count": 37,
   "metadata": {},
   "outputs": [
    {
     "name": "stdout",
     "output_type": "stream",
     "text": [
      "Amostra aleatória (baby_df):\n",
      "     PassengerId  Survived  Pclass                            Name   Sex  \\\n",
      "379          380         0       3     Gustafsson, Mr. Karl Gideon  male   \n",
      "510          511         1       3        Daly, Mr. Eugene Patrick  male   \n",
      "837          838         0       3             Sirota, Mr. Maurice  male   \n",
      "508          509         0       3        Olsen, Mr. Henry Margido  male   \n",
      "353          354         0       3       Arnold-Franchi, Mr. Josef  male   \n",
      "..           ...       ...     ...                             ...   ...   \n",
      "83            84         0       1         Carrau, Mr. Francisco M  male   \n",
      "407          408         1       2  Richards, Master. William Rowe  male   \n",
      "671          672         0       1          Davidson, Mr. Thornton  male   \n",
      "773          774         0       3                 Elias, Mr. Dibo  male   \n",
      "26            27         0       3         Emir, Mr. Farred Chehab  male   \n",
      "\n",
      "      Age  SibSp  Parch      Ticket    Fare Cabin Embarked  \n",
      "379  19.0      0      0      347069   7.775   NaN        S  \n",
      "510  29.0      0      0      382651   7.750   NaN        Q  \n",
      "837   NaN      0      0      392092   8.050   NaN        S  \n",
      "508  28.0      0      0      C 4001  22.525   NaN        S  \n",
      "353  25.0      1      0      349237  17.800   NaN        S  \n",
      "..    ...    ...    ...         ...     ...   ...      ...  \n",
      "83   28.0      0      0      113059  47.100   NaN        S  \n",
      "407   3.0      1      1       29106  18.750   NaN        S  \n",
      "671  31.0      1      0  F.C. 12750  52.000   B71        S  \n",
      "773   NaN      0      0        2674   7.225   NaN        C  \n",
      "26    NaN      0      0        2631   7.225   NaN        C  \n",
      "\n",
      "[100 rows x 12 columns]\n"
     ]
    }
   ],
   "source": [
    "print(\"Amostra aleatória (baby_df):\")\n",
    "print(baby_df)"
   ]
  },
  {
   "cell_type": "code",
   "execution_count": 38,
   "metadata": {},
   "outputs": [
    {
     "name": "stdout",
     "output_type": "stream",
     "text": [
      "DataFrame processado (df_titanic):\n",
      "     index  PassengerId  Survived  Pclass                                Name  \\\n",
      "0      271          272         1       3        Tornquist, Mr. William Henry   \n",
      "1      597          598         0       3                 Johnson, Mr. Alfred   \n",
      "2      302          303         0       3     Johnson, Mr. William Cahoone Jr   \n",
      "3      633          634         0       1       Parr, Mr. William Henry Marsh   \n",
      "4      277          278         0       2         Parkes, Mr. Francis \"Frank\"   \n",
      "..     ...          ...       ...     ...                                 ...   \n",
      "886    438          439         0       1                   Fortune, Mr. Mark   \n",
      "887    341          342         1       1      Fortune, Miss. Alice Elizabeth   \n",
      "888    737          738         1       1              Lesurer, Mr. Gustave J   \n",
      "889    258          259         1       1                    Ward, Miss. Anna   \n",
      "890    679          680         1       1  Cardeza, Mr. Thomas Drake Martinez   \n",
      "\n",
      "        Sex   Age    Ticket      Fare        Cabin Embarked  \n",
      "0      male  25.0      LINE    0.0000          NaN        S  \n",
      "1      male  49.0      LINE    0.0000          NaN        S  \n",
      "2      male  19.0      LINE    0.0000          NaN        S  \n",
      "3      male   NaN    112052    0.0000          NaN        S  \n",
      "4      male   NaN    239853    0.0000          NaN        S  \n",
      "..      ...   ...       ...       ...          ...      ...  \n",
      "886    male  64.0     19950  263.0000  C23 C25 C27        S  \n",
      "887  female  24.0     19950  263.0000  C23 C25 C27        S  \n",
      "888    male  35.0  PC 17755  512.3292         B101        C  \n",
      "889  female  35.0  PC 17755  512.3292          NaN        C  \n",
      "890    male  36.0  PC 17755  512.3292  B51 B53 B55        C  \n",
      "\n",
      "[891 rows x 11 columns]\n"
     ]
    }
   ],
   "source": [
    "print(\"DataFrame processado (df_titanic):\")\n",
    "print(df_titanic)"
   ]
  },
  {
   "cell_type": "code",
   "execution_count": 39,
   "metadata": {},
   "outputs": [
    {
     "name": "stdout",
     "output_type": "stream",
     "text": [
      "Métricas descritivas (métricas):\n",
      "            index  PassengerId    Survived      Pclass         Age        Fare\n",
      "count  891.000000   891.000000  891.000000  891.000000  714.000000  891.000000\n",
      "mean   445.000000   446.000000    0.383838    2.308642   29.699118   32.204208\n",
      "std    257.353842   257.353842    0.486592    0.836071   14.526497   49.693429\n",
      "min      0.000000     1.000000    0.000000    1.000000    0.420000    0.000000\n",
      "25%    222.500000   223.500000    0.000000    2.000000   20.125000    7.910400\n",
      "50%    445.000000   446.000000    0.000000    3.000000   28.000000   14.454200\n",
      "75%    667.500000   668.500000    1.000000    3.000000   38.000000   31.000000\n",
      "max    890.000000   891.000000    1.000000    3.000000   80.000000  512.329200\n"
     ]
    }
   ],
   "source": [
    "print(\"Métricas descritivas (métricas):\")\n",
    "print(metricas)"
   ]
  },
  {
   "cell_type": "code",
   "execution_count": 40,
   "metadata": {},
   "outputs": [
    {
     "name": "stderr",
     "output_type": "stream",
     "text": [
      "Matplotlib is building the font cache; this may take a moment.\n"
     ]
    }
   ],
   "source": [
    "import matplotlib.pyplot as plt"
   ]
  },
  {
   "cell_type": "code",
   "execution_count": 43,
   "metadata": {},
   "outputs": [],
   "source": [
    "media_idade = df_titanic[['PassengerId','Age']].groupby('PassengerId').mean()"
   ]
  },
  {
   "cell_type": "code",
   "execution_count": 44,
   "metadata": {},
   "outputs": [
    {
     "data": {
      "text/plain": [
       "<Axes: xlabel='PassengerId'>"
      ]
     },
     "execution_count": 44,
     "metadata": {},
     "output_type": "execute_result"
    },
    {
     "data": {
      "image/png": "[encoded data removed]",
      "text/plain": [
       "<Figure size 640x480 with 1 Axes>"
      ]
     },
     "metadata": {},
     "output_type": "display_data"
    }
   ],
   "source": [
    "media_idade.plot()"
   ]
  },
  {
   "cell_type": "code",
   "execution_count": 49,
   "metadata": {},
   "outputs": [
    {
     "data": {
      "text/plain": [
       "Text(0.5, 1.0, 'Número de passageiros por classe')"
      ]
     },
     "execution_count": 49,
     "metadata": {},
     "output_type": "execute_result"
    },
    {
     "data": {
      "image/png": "[encoded data removed]",
      "text/plain": [
       "<Figure size 640x480 with 1 Axes>"
      ]
     },
     "metadata": {},
     "output_type": "display_data"
    }
   ],
   "source": [
    "contagem_passageiros = df_titanic[\"Pclass\"].value_counts()\n",
    "contagem_passageiros.plot(kind='bar', edgecolor = 'blue', color = 'pink')\n",
    "\n",
    "plt.xlabel(\"Classe do passageiro\")\n",
    "plt.xticks(rotation=0)\n",
    "plt.ylabel(\"Quantidade\")\n",
    "plt.title(\"Número de passageiros por classe\")"
   ]
  },
  {
   "cell_type": "code",
   "execution_count": 53,
   "metadata": {},
   "outputs": [
    {
     "data": {
      "text/plain": [
       "<matplotlib.legend.Legend at 0x14b712aac30>"
      ]
     },
     "execution_count": 53,
     "metadata": {},
     "output_type": "execute_result"
    },
    {
     "data": {
      "image/png": "[encoded data removed]",
      "text/plain": [
       "<Figure size 1000x600 with 1 Axes>"
      ]
     },
     "metadata": {},
     "output_type": "display_data"
    }
   ],
   "source": [
    "taxa_sobreviventes_sexo = df_titanic.groupby(\"Sex\")[\"Survived\"].value_counts(normalize=True).unstack() * 100\n",
    "taxa_sobreviventes_sexo.plot(kind=\"bar\", edgecolor=\"pink\", color=[\"blue\", \"green\"], figsize=(10, 6))\n",
    "\n",
    "plt.title(\"Taxa de Sobreviventes por Sexo\")\n",
    "plt.xlabel(\"Sexo\")\n",
    "plt.ylabel(\"Porcentagem\")\n",
    "plt.xticks(rotation=0)\n",
    "plt.legend([\"Não Sobreviventes\", \"Sobreviventes\"], title=\"Sobrevivência\")"
   ]
  },
  {
   "cell_type": "code",
   "execution_count": 56,
   "metadata": {},
   "outputs": [
    {
     "data": {
      "text/plain": [
       "Text(0, 0.5, 'Contagem')"
      ]
     },
     "execution_count": 56,
     "metadata": {},
     "output_type": "execute_result"
    },
    {
     "data": {
      "image/png": "[encoded data removed]",
      "text/plain": [
       "<Figure size 1000x600 with 1 Axes>"
      ]
     },
     "metadata": {},
     "output_type": "display_data"
    }
   ],
   "source": [
    "distribuicao_idade = df_titanic[\"Age\"].plot(kind=\"hist\", bins=20, edgecolor=\"black\", figsize=(10, 6) )\n",
    "distribuicao_idade.set_title(\"Distribuição de Idades\")\n",
    "distribuicao_idade.set_xlabel(\"Idade\")\n",
    "distribuicao_idade.set_ylabel(\"Contagem\")"
   ]
  },
  {
   "cell_type": "code",
   "execution_count": 58,
   "metadata": {},
   "outputs": [
    {
     "data": {
      "text/plain": [
       "<Axes: xlabel='Sex'>"
      ]
     },
     "execution_count": 58,
     "metadata": {},
     "output_type": "execute_result"
    },
    {
     "data": {
      "image/png": "[encoded data removed]",
      "text/plain": [
       "<Figure size 640x480 with 1 Axes>"
      ]
     },
     "metadata": {},
     "output_type": "display_data"
    }
   ],
   "source": [
    "df_grouped = df_titanic.groupby('Sex')['Survived'].mean()\n",
    "df_grouped.plot(kind='bar')"
   ]
  },
  {
   "cell_type": "code",
   "execution_count": null,
   "metadata": {},
   "outputs": [],
   "source": [
    "#Taxa de sobrevivência por sexo\n",
    "\n",
    "taxa_sob_sexo = df.titanic.groupby(\"Sex\")[\"Survived\"].mean()\n",
    "\n",
    "cores = [\"lightpink\", \"lightblue\"]\n",
    "\n",
    "barras = taxa_sob_sexo.plot.bar(edgecolor = \"blue\", color = cores)\n",
    "\n",
    "plt.xlabel(\"\")"
   ]
  }
 ],
 "metadata": {
  "kernelspec": {
   "display_name": "Python 3",
   "language": "python",
   "name": "python3"
  },
  "language_info": {
   "codemirror_mode": {
    "name": "ipython",
    "version": 3
   },
   "file_extension": ".py",
   "mimetype": "text/x-python",
   "name": "python",
   "nbconvert_exporter": "python",
   "pygments_lexer": "ipython3",
   "version": "3.12.2"
  }
 },
 "nbformat": 4,
 "nbformat_minor": 2
}
